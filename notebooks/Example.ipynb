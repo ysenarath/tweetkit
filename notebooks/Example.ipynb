{
 "cells": [
  {
   "cell_type": "code",
   "execution_count": null,
   "id": "59610c36-fd22-4f47-81a5-39143a6c6812",
   "metadata": {},
   "outputs": [],
   "source": [
    "import sys\n",
    "import os\n",
    "\n",
    "project_path = os.path.dirname(os.path.abspath('.'))\n",
    "\n",
    "if project_path not in sys.path:\n",
    "    sys.path.append(project_path)"
   ]
  },
  {
   "cell_type": "code",
   "execution_count": null,
   "id": "d6410903-078d-4a28-bcea-bd54a2cb092c",
   "metadata": {},
   "outputs": [],
   "source": [
    "import datetime\n",
    "\n",
    "from tweetkit.auth import BearerTokenAuth\n",
    "from tweetkit.client import TwitterClient"
   ]
  },
  {
   "cell_type": "code",
   "execution_count": null,
   "id": "09494f1a-a579-4772-b421-ca9700477372",
   "metadata": {},
   "outputs": [],
   "source": [
    "with open('../secrets/bearer_token.txt', 'r', encoding='utf-8') as fp:\n",
    "    auth = BearerTokenAuth(fp.read().strip())\n",
    "\n",
    "client = TwitterClient(auth=auth)"
   ]
  },
  {
   "cell_type": "code",
   "execution_count": null,
   "id": "7bbf53fc-02ac-41d5-89ba-b6632c25220a",
   "metadata": {},
   "outputs": [],
   "source": [
    "start_time = '2022-09-30T00:00:01Z'\n",
    "end_time = '2022-09-30T12:00:00Z'"
   ]
  },
  {
   "cell_type": "code",
   "execution_count": null,
   "id": "fa4d3b5e-587b-40b1-9008-6ddd368fc508",
   "metadata": {},
   "outputs": [],
   "source": [
    "paginator = client.tweets.tweets_fullarchive_search(\n",
    "    '(#Ian OR \"Hurricane Ian\" OR #HurricaneIan) -is:retweet has:videos',\n",
    "    start_time=start_time,\n",
    "    end_time=end_time,\n",
    "    max_results=100,\n",
    "    paginate=True,\n",
    ")"
   ]
  },
  {
   "cell_type": "code",
   "execution_count": null,
   "id": "f541d755-1f02-4025-876e-e8434344a4ff",
   "metadata": {},
   "outputs": [],
   "source": [
    "tweets = []\n",
    "\n",
    "start_time = datetime.datetime.strptime(start_time, '%Y-%m-%dT%H:%M:%SZ')\n",
    "end_time = datetime.datetime.strptime(end_time, '%Y-%m-%dT%H:%M:%SZ')\n",
    "percentage_remaining = 0.0\n",
    "total_period = (end_time - start_time).total_seconds()\n",
    "for tweet in paginator.content:\n",
    "    created_at = datetime.datetime.strptime(tweet['data']['created_at'], '%Y-%m-%dT%H:%M:%S.%fZ')\n",
    "    tweets.append(tweet)\n",
    "    remaining_period = (end_time - created_at).total_seconds()\n",
    "    percentage_remaining = round(remaining_period * 100 / total_period, 2)\n",
    "    print('\\rTweet Count: {:3.0f}%, {}'.format(percentage_remaining, len(tweets)), end='')\n",
    "if percentage_remaining != 100.00:\n",
    "    print('\\rTweet Count: {:3.0f}%, {}'.format(100.00, len(tweets)), end='')\n",
    "\n",
    "print(tweets)"
   ]
  }
 ],
 "metadata": {
  "kernelspec": {
   "display_name": "Python 3 (ipykernel)",
   "language": "python",
   "name": "python3"
  },
  "language_info": {
   "codemirror_mode": {
    "name": "ipython",
    "version": 3
   },
   "file_extension": ".py",
   "mimetype": "text/x-python",
   "name": "python",
   "nbconvert_exporter": "python",
   "pygments_lexer": "ipython3",
   "version": "3.9.13"
  }
 },
 "nbformat": 4,
 "nbformat_minor": 5
}

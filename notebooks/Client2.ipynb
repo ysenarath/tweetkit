{
 "cells": [
  {
   "cell_type": "code",
   "execution_count": null,
   "id": "cb5d6d1c-d94b-4c24-a7c5-7e663b28f571",
   "metadata": {},
   "outputs": [],
   "source": [
    "%load_ext autoreload\n",
    "%autoreload 2"
   ]
  },
  {
   "cell_type": "code",
   "execution_count": null,
   "id": "3421f7bf-c857-4b02-9ae2-449b5959876f",
   "metadata": {},
   "outputs": [],
   "source": [
    "import json\n",
    "\n",
    "import os\n",
    "import sys\n",
    "\n",
    "project_path = os.path.abspath(os.path.join(os.getcwd(), '..'))\n",
    "\n",
    "if project_path not in sys.path:\n",
    "    sys.path.append(project_path)\n",
    "    \n",
    "project_path"
   ]
  },
  {
   "cell_type": "code",
   "execution_count": null,
   "id": "01e6cb9a-d6ee-43f8-86a7-41f7ed84401c",
   "metadata": {},
   "outputs": [],
   "source": [
    "import time"
   ]
  },
  {
   "cell_type": "code",
   "execution_count": null,
   "id": "0f68548c-0d9c-4abe-8efb-282c27dec473",
   "metadata": {},
   "outputs": [],
   "source": [
    "from tweetkit.auth import BearerTokenAuth\n",
    "from tweetkit.client import TwitterClient\n",
    "from tweetkit.models import TwitterExpansions"
   ]
  },
  {
   "cell_type": "code",
   "execution_count": null,
   "id": "1562ef46-f6d6-4621-ae8a-bc8def76fdc2",
   "metadata": {},
   "outputs": [],
   "source": [
    "with open('../secrets/bearer_token', 'r', encoding='utf-8') as fp:\n",
    "    auth = BearerTokenAuth(fp.read())\n",
    "    assert len(auth.bearer_token) > 0, 'Unable to load the bearer token.'"
   ]
  },
  {
   "cell_type": "code",
   "execution_count": null,
   "id": "18ff6531-77d9-4b66-bac3-7479f3509478",
   "metadata": {},
   "outputs": [],
   "source": [
    "client = TwitterClient(auth=auth)"
   ]
  },
  {
   "cell_type": "code",
   "execution_count": null,
   "id": "13154431-ddb3-481d-ac6c-24e6dfd63603",
   "metadata": {},
   "outputs": [],
   "source": [
    "# help(client.tweets.tweets_fullarchive_search)"
   ]
  },
  {
   "cell_type": "code",
   "execution_count": null,
   "id": "89048c35-62e5-4ead-8567-c5f82d7357ac",
   "metadata": {},
   "outputs": [],
   "source": [
    "import datetime\n",
    "import math"
   ]
  },
  {
   "cell_type": "code",
   "execution_count": null,
   "id": "3af96c0c-7fe8-442f-a4cf-7f135983e4af",
   "metadata": {},
   "outputs": [],
   "source": [
    "paginator = client.tweets.tweets_fullarchive_search(\n",
    "    '(#Ian OR \"Hurricane Ian\" OR #HurricaneIan) -is:retweet has:videos', \n",
    "    start_time='2022-09-30T00:00:01Z',\n",
    "    end_time='2022-09-30T12:00:00Z',\n",
    "    max_results=100,\n",
    "    paginate=True,\n",
    ")\n",
    "tweets = []\n",
    "start_time = datetime.datetime.strptime(response.request.query['start_time'], '%Y-%m-%dT%H:%M:%SZ')\n",
    "end_time = datetime.datetime.strptime(response.request.query['end_time'], '%Y-%m-%dT%H:%M:%SZ')\n",
    "total_period = (end_time - start_time).total_seconds()\n",
    "for tweet in paginator.content:\n",
    "    created_at = datetime.datetime.strptime(tweet['data']['created_at'], '%Y-%m-%dT%H:%M:%S.%fZ')\n",
    "    tweets.append(tweet)\n",
    "    remaining_period = (end_time - created_at).total_seconds()\n",
    "    percentage_remaining = round(remaining_period * 100 / total_period, 2)\n",
    "    print('\\rTweet Count: {:3.0f}%, {}'.format(percentage_remaining, len(tweets)), end='')\n",
    "    time.sleep(1 + 300 / (15 * 60))\n",
    "if percentage_remaining != 100.00:\n",
    "    print('\\rTweet Count: {:3.0f}%, {}'.format(100.00, len(tweets)), end='')"
   ]
  },
  {
   "cell_type": "code",
   "execution_count": null,
   "id": "e93ce7a6-4c8e-4d57-920e-8c6eb8717f1a",
   "metadata": {},
   "outputs": [],
   "source": [
    "len(tweets)"
   ]
  },
  {
   "cell_type": "code",
   "execution_count": null,
   "id": "d2e3aa8b-b476-448b-a54b-f94c043b5389",
   "metadata": {},
   "outputs": [],
   "source": [
    "tweets[0]['data']['id']"
   ]
  },
  {
   "cell_type": "code",
   "execution_count": null,
   "id": "1e0fc4e8-ca92-4a91-aedc-8d35dbc27c5a",
   "metadata": {},
   "outputs": [],
   "source": [
    "len(tweets[0]['includes']['media'])"
   ]
  },
  {
   "cell_type": "code",
   "execution_count": null,
   "id": "a307846c-1423-4bd3-932e-e7497927a472",
   "metadata": {},
   "outputs": [],
   "source": [
    "# help(client.tweets.find_tweet_by_id)"
   ]
  },
  {
   "cell_type": "code",
   "execution_count": null,
   "id": "56bf04e7-97cf-4d63-b99b-942afb8be5a1",
   "metadata": {},
   "outputs": [],
   "source": [
    "tweet = client.tweets.find_tweet_by_id('1574935349935341568')\n",
    "\n",
    "tweet"
   ]
  },
  {
   "cell_type": "code",
   "execution_count": null,
   "id": "d4fd45f4-3f8b-4b74-949d-79574b663d47",
   "metadata": {},
   "outputs": [],
   "source": [
    "try:\n",
    "    error, tweets = None, []\n",
    "    next_token = None\n",
    "    while True:\n",
    "        resp = client.tweets.tweets_fullarchive_search(\n",
    "            '(#Ian OR \"Hurricane Ian\" OR #HurricaneIan) -is:retweet has:videos', \n",
    "            next_token=next_token, \n",
    "            start_time='2022-09-30T00:00:01Z',\n",
    "            end_time='2022-10-12T12:00:01Z',\n",
    "            max_results=100,\n",
    "        )\n",
    "        tweets += resp.content\n",
    "        if 'next_token' not in resp.meta:\n",
    "            break\n",
    "        next_token = resp.meta['next_token']\n",
    "        print('Number of Tweets Collected: {}'.format(len(tweets)))\n",
    "        \n",
    "except Exception as ex:\n",
    "    raise ex\n",
    "    error = ex\n",
    "    \n",
    "error, len(tweets)"
   ]
  },
  {
   "cell_type": "code",
   "execution_count": null,
   "id": "a217035f-277d-48ad-931c-010ba07c9038",
   "metadata": {},
   "outputs": [],
   "source": []
  }
 ],
 "metadata": {
  "kernelspec": {
   "display_name": "Python 3 (ipykernel)",
   "language": "python",
   "name": "python3"
  },
  "language_info": {
   "codemirror_mode": {
    "name": "ipython",
    "version": 3
   },
   "file_extension": ".py",
   "mimetype": "text/x-python",
   "name": "python",
   "nbconvert_exporter": "python",
   "pygments_lexer": "ipython3",
   "version": "3.9.7"
  }
 },
 "nbformat": 4,
 "nbformat_minor": 5
}

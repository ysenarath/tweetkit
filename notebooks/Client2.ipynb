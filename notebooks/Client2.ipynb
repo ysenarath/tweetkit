{
 "cells": [
  {
   "cell_type": "code",
   "execution_count": 17,
   "id": "cb5d6d1c-d94b-4c24-a7c5-7e663b28f571",
   "metadata": {},
   "outputs": [
    {
     "name": "stdout",
     "output_type": "stream",
     "text": [
      "The autoreload extension is already loaded. To reload it, use:\n",
      "  %reload_ext autoreload\n"
     ]
    }
   ],
   "source": [
    "%load_ext autoreload\n",
    "%autoreload 2"
   ]
  },
  {
   "cell_type": "code",
   "execution_count": 2,
   "id": "3421f7bf-c857-4b02-9ae2-449b5959876f",
   "metadata": {},
   "outputs": [
    {
     "data": {
      "text/plain": [
       "'/Users/yasas/Documents/Projects/ysenarath/tweetkit'"
      ]
     },
     "execution_count": 2,
     "metadata": {},
     "output_type": "execute_result"
    }
   ],
   "source": [
    "import json\n",
    "\n",
    "import os\n",
    "import sys\n",
    "\n",
    "project_path = os.path.abspath(os.path.join(os.getcwd(), '..'))\n",
    "\n",
    "if project_path not in sys.path:\n",
    "    sys.path.append(project_path)\n",
    "    \n",
    "project_path"
   ]
  },
  {
   "cell_type": "code",
   "execution_count": 3,
   "id": "01e6cb9a-d6ee-43f8-86a7-41f7ed84401c",
   "metadata": {},
   "outputs": [],
   "source": [
    "import time"
   ]
  },
  {
   "cell_type": "code",
   "execution_count": 4,
   "id": "0f68548c-0d9c-4abe-8efb-282c27dec473",
   "metadata": {},
   "outputs": [],
   "source": [
    "from tweetkit.auth import BearerTokenAuth\n",
    "from tweetkit.client import TwitterClient\n",
    "from tweetkit.models import TwitterExpansions"
   ]
  },
  {
   "cell_type": "code",
   "execution_count": 5,
   "id": "1562ef46-f6d6-4621-ae8a-bc8def76fdc2",
   "metadata": {},
   "outputs": [],
   "source": [
    "with open('../secrets/bearer_token', 'r', encoding='utf-8') as fp:\n",
    "    auth = BearerTokenAuth(fp.read())\n",
    "    assert len(auth.bearer_token) > 0, 'Unable to load the bearer token.'"
   ]
  },
  {
   "cell_type": "code",
   "execution_count": 6,
   "id": "18ff6531-77d9-4b66-bac3-7479f3509478",
   "metadata": {},
   "outputs": [],
   "source": [
    "client = TwitterClient(auth=auth)"
   ]
  },
  {
   "cell_type": "code",
   "execution_count": 7,
   "id": "13154431-ddb3-481d-ac6c-24e6dfd63603",
   "metadata": {},
   "outputs": [],
   "source": [
    "# help(client.tweets.tweets_fullarchive_search)"
   ]
  },
  {
   "cell_type": "code",
   "execution_count": 8,
   "id": "89048c35-62e5-4ead-8567-c5f82d7357ac",
   "metadata": {},
   "outputs": [],
   "source": [
    "import datetime\n",
    "import math"
   ]
  },
  {
   "cell_type": "code",
   "execution_count": 48,
   "id": "3af96c0c-7fe8-442f-a4cf-7f135983e4af",
   "metadata": {},
   "outputs": [
    {
     "name": "stdout",
     "output_type": "stream",
     "text": [
      "Tweet Count: 100%, 1487"
     ]
    }
   ],
   "source": [
    "paginator = client.tweets.tweets_fullarchive_search(\n",
    "    '(#Ian OR \"Hurricane Ian\" OR #HurricaneIan) -is:retweet has:videos', \n",
    "    start_time='2022-09-30T00:00:01Z',\n",
    "    end_time='2022-09-30T12:00:00Z',\n",
    "    max_results=100,\n",
    "    paginate=True,\n",
    ")\n",
    "tweets = []\n",
    "start_time = datetime.datetime.strptime(response.request.query['start_time'], '%Y-%m-%dT%H:%M:%SZ')\n",
    "end_time = datetime.datetime.strptime(response.request.query['end_time'], '%Y-%m-%dT%H:%M:%SZ')\n",
    "total_period = (end_time - start_time).total_seconds()\n",
    "for tweet in paginator.content:\n",
    "    created_at = datetime.datetime.strptime(tweet['data']['created_at'], '%Y-%m-%dT%H:%M:%S.%fZ')\n",
    "    tweets.append(tweet)\n",
    "    remaining_period = (end_time - created_at).total_seconds()\n",
    "    percentage_remaining = round(remaining_period * 100 / total_period, 2)\n",
    "    print('\\rTweet Count: {:3.0f}%, {}'.format(percentage_remaining, len(tweets)), end='')\n",
    "    time.sleep(1 + 300 / (15 * 60))\n",
    "if percentage_remaining != 100.00:\n",
    "    print('\\rTweet Count: {:3.0f}%, {}'.format(100.00, len(tweets)), end='')"
   ]
  },
  {
   "cell_type": "code",
   "execution_count": 49,
   "id": "e93ce7a6-4c8e-4d57-920e-8c6eb8717f1a",
   "metadata": {},
   "outputs": [
    {
     "data": {
      "text/plain": [
       "1487"
      ]
     },
     "execution_count": 49,
     "metadata": {},
     "output_type": "execute_result"
    }
   ],
   "source": [
    "len(tweets)"
   ]
  },
  {
   "cell_type": "code",
   "execution_count": 36,
   "id": "d2e3aa8b-b476-448b-a54b-f94c043b5389",
   "metadata": {},
   "outputs": [
    {
     "data": {
      "text/plain": [
       "'1575817614844383233'"
      ]
     },
     "execution_count": 36,
     "metadata": {},
     "output_type": "execute_result"
    }
   ],
   "source": [
    "tweets[0]['data']['id']"
   ]
  },
  {
   "cell_type": "code",
   "execution_count": 37,
   "id": "1e0fc4e8-ca92-4a91-aedc-8d35dbc27c5a",
   "metadata": {},
   "outputs": [
    {
     "data": {
      "text/plain": [
       "96"
      ]
     },
     "execution_count": 37,
     "metadata": {},
     "output_type": "execute_result"
    }
   ],
   "source": [
    "len(tweets[0]['includes']['media'])"
   ]
  },
  {
   "cell_type": "code",
   "execution_count": 19,
   "id": "a307846c-1423-4bd3-932e-e7497927a472",
   "metadata": {},
   "outputs": [],
   "source": [
    "# help(client.tweets.find_tweet_by_id)"
   ]
  },
  {
   "cell_type": "code",
   "execution_count": 50,
   "id": "56bf04e7-97cf-4d63-b99b-942afb8be5a1",
   "metadata": {},
   "outputs": [
    {
     "data": {
      "text/plain": [
       "{\n",
       "  \"data\": {\n",
       "    \"created_at\": \"2022-09-28T01:33:42.000Z\",\n",
       "    \"edit_controls\": {\n",
       "      \"edits_remaining\": 5,\n",
       "      \"is_edit_eligible\": true,\n",
       "      \"editable_until\": \"2022-09-28T02:03:42.000Z\"\n",
       "    },\n",
       "    \"entities\": {\n",
       "      \"annotations\": [\n",
       "        {\n",
       "          \"start\": 37,\n",
       "          \"end\": 55,\n",
       "          \"probability\": 0.9721,\n",
       "          \"type\": \"Place\",\n",
       "          \"normalized_text\": \"North Perry Airport\"\n",
       "        },\n",
       "        {\n",
       "          \"start\": 131,\n",
       "          \"end\": 133,\n",
       "          \"probability\": 0.33,\n",
       "          \"type\": \"Place\",\n",
       "          \"normalized_text\": \"IAN\"\n",
       "        },\n",
       "        {\n",
       "          \"start\": 136,\n",
       "          \"end\": 147,\n",
       "          \"probability\": 0.4402,\n",
       "          \"type\": \"Other\",\n",
       "          \"normalized_text\": \"HurricaneIan\"\n",
       "        },\n",
       "        {\n",
       "          \"start\": 175,\n",
       "          \"end\": 187,\n",
       "          \"probability\": 0.8178,\n",
       "          \"type\": \"Person\",\n",
       "          \"normalized_text\": \"Steven J Grey\"\n",
       "        }\n",
       "      ],\n",
       "      \"hashtags\": [\n",
       "        {\n",
       "          \"start\": 130,\n",
       "          \"end\": 134,\n",
       "          \"tag\": \"IAN\"\n",
       "        },\n",
       "        {\n",
       "          \"start\": 135,\n",
       "          \"end\": 148,\n",
       "          \"tag\": \"HurricaneIan\"\n",
       "        }\n",
       "      ],\n",
       "      \"urls\": [\n",
       "        {\n",
       "          \"start\": 189,\n",
       "          \"end\": 212,\n",
       "          \"url\": \"https://t.co/W4kQPU3R32\",\n",
       "          \"expanded_url\": \"https://twitter.com/TotalTrafficMIA/status/1574935349935341568/video/1\",\n",
       "          \"display_url\": \"pic.twitter.com/W4kQPU3R32\",\n",
       "          \"media_key\": \"7_1574935242393223170\"\n",
       "        }\n",
       "      ]\n",
       "    },\n",
       "    \"id\": \"1574935349935341568\",\n",
       "    \"context_annotations\": [\n",
       "      {\n",
       "        \"domain\": {\n",
       "          \"id\": \"131\",\n",
       "          \"name\": \"Unified Twitter Taxonomy\",\n",
       "          \"description\": \"A taxonomy of user interests. \"\n",
       "        },\n",
       "        \"entity\": {\n",
       "          \"id\": \"857083369514876928\",\n",
       "          \"name\": \"Weather\",\n",
       "          \"description\": \"Weather\"\n",
       "        }\n",
       "      },\n",
       "      {\n",
       "        \"domain\": {\n",
       "          \"id\": \"131\",\n",
       "          \"name\": \"Unified Twitter Taxonomy\",\n",
       "          \"description\": \"A taxonomy of user interests. \"\n",
       "        },\n",
       "        \"entity\": {\n",
       "          \"id\": \"1254792035480952833\",\n",
       "          \"name\": \"South Florida\"\n",
       "        }\n",
       "      },\n",
       "      {\n",
       "        \"domain\": {\n",
       "          \"id\": \"171\",\n",
       "          \"name\": \"Local News\",\n",
       "          \"description\": \"For local-level news entities\"\n",
       "        },\n",
       "        \"entity\": {\n",
       "          \"id\": \"1254792035480952833\",\n",
       "          \"name\": \"South Florida\"\n",
       "        }\n",
       "      }\n",
       "    ],\n",
       "    \"lang\": \"en\",\n",
       "    \"public_metrics\": {\n",
       "      \"retweet_count\": 316,\n",
       "      \"reply_count\": 33,\n",
       "      \"like_count\": 549,\n",
       "      \"quote_count\": 42\n",
       "    },\n",
       "    \"conversation_id\": \"1574935349935341568\",\n",
       "    \"edit_history_tweet_ids\": [\n",
       "      \"1574935349935341568\"\n",
       "    ],\n",
       "    \"possibly_sensitive\": false,\n",
       "    \"text\": \"NEW VIDEO: Over 15 planes damaged at North Perry Airport north side (more possibly on the south side) due to a suspected tornado. #IAN #HurricaneIan   \\n\\ud83d\\udcfd\\ufe0f Video Courtesy TTWN/Steven J Grey https://t.co/W4kQPU3R32\",\n",
       "    \"author_id\": \"249831776\",\n",
       "    \"attachments\": {\n",
       "      \"media_keys\": [\n",
       "        \"7_1574935242393223170\"\n",
       "      ]\n",
       "    },\n",
       "    \"reply_settings\": \"everyone\",\n",
       "    \"source\": \"Twitter Web App\"\n",
       "  },\n",
       "  \"includes\": {\n",
       "    \"media\": [\n",
       "      {\n",
       "        \"width\": 1280,\n",
       "        \"media_key\": \"7_1574935242393223170\",\n",
       "        \"public_metrics\": {\n",
       "          \"view_count\": 87851\n",
       "        },\n",
       "        \"type\": \"video\",\n",
       "        \"variants\": [\n",
       "          {\n",
       "            \"bit_rate\": 832000,\n",
       "            \"content_type\": \"video/mp4\",\n",
       "            \"url\": \"https://video.twimg.com/ext_tw_video/1574935242393223170/pu/vid/640x360/GwYoFK_v2RnXkMmS.mp4?tag=12\"\n",
       "          },\n",
       "          {\n",
       "            \"bit_rate\": 2176000,\n",
       "            \"content_type\": \"video/mp4\",\n",
       "            \"url\": \"https://video.twimg.com/ext_tw_video/1574935242393223170/pu/vid/1280x720/taRj7sDxYX4mRVaR.mp4?tag=12\"\n",
       "          },\n",
       "          {\n",
       "            \"bit_rate\": 256000,\n",
       "            \"content_type\": \"video/mp4\",\n",
       "            \"url\": \"https://video.twimg.com/ext_tw_video/1574935242393223170/pu/vid/480x270/WR4VIkGQ-mXFzzMb.mp4?tag=12\"\n",
       "          },\n",
       "          {\n",
       "            \"content_type\": \"application/x-mpegURL\",\n",
       "            \"url\": \"https://video.twimg.com/ext_tw_video/1574935242393223170/pu/pl/NiS1GvqE3Jqyk7M3.m3u8?tag=12&container=fmp4\"\n",
       "          }\n",
       "        ],\n",
       "        \"duration_ms\": 27666,\n",
       "        \"height\": 720,\n",
       "        \"preview_image_url\": \"https://pbs.twimg.com/ext_tw_video_thumb/1574935242393223170/pu/img/YBedqeJRZJFJPdHI.jpg\"\n",
       "      }\n",
       "    ],\n",
       "    \"users\": [\n",
       "      {\n",
       "        \"entities\": {\n",
       "          \"url\": {\n",
       "            \"urls\": [\n",
       "              {\n",
       "                \"start\": 0,\n",
       "                \"end\": 23,\n",
       "                \"url\": \"https://t.co/PwlplcC43u\",\n",
       "                \"expanded_url\": \"https://www.iheartmedia.com/networks\",\n",
       "                \"display_url\": \"iheartmedia.com/networks\"\n",
       "              }\n",
       "            ]\n",
       "          }\n",
       "        },\n",
       "        \"profile_image_url\": \"https://pbs.twimg.com/profile_images/585191558317649920/kTQLI81j_normal.png\",\n",
       "        \"verified\": false,\n",
       "        \"description\": \"\\ud83d\\ude99 Miami/Broward traffic info \\ud83d\\udcf2 Turn on notifs & follow our reporters! \\ud83d\\udce1 Images/video courtesy FDOT/Turnpike + others \\u26a0\\ufe0f Follows/Retweets/Likes \\u2260 endorsements\",\n",
       "        \"created_at\": \"2011-02-09T21:43:21.000Z\",\n",
       "        \"id\": \"249831776\",\n",
       "        \"location\": \"Miami, FL\",\n",
       "        \"name\": \"Total Traffic Miami\",\n",
       "        \"protected\": false,\n",
       "        \"username\": \"TotalTrafficMIA\",\n",
       "        \"public_metrics\": {\n",
       "          \"followers_count\": 18253,\n",
       "          \"following_count\": 742,\n",
       "          \"tweet_count\": 236709,\n",
       "          \"listed_count\": 225\n",
       "        },\n",
       "        \"url\": \"https://t.co/PwlplcC43u\"\n",
       "      }\n",
       "    ],\n",
       "    \"tweets\": [\n",
       "      {\n",
       "        \"created_at\": \"2022-09-28T01:33:42.000Z\",\n",
       "        \"edit_controls\": {\n",
       "          \"edits_remaining\": 5,\n",
       "          \"is_edit_eligible\": true,\n",
       "          \"editable_until\": \"2022-09-28T02:03:42.000Z\"\n",
       "        },\n",
       "        \"entities\": {\n",
       "          \"annotations\": [\n",
       "            {\n",
       "              \"start\": 37,\n",
       "              \"end\": 55,\n",
       "              \"probability\": 0.9721,\n",
       "              \"type\": \"Place\",\n",
       "              \"normalized_text\": \"North Perry Airport\"\n",
       "            },\n",
       "            {\n",
       "              \"start\": 131,\n",
       "              \"end\": 133,\n",
       "              \"probability\": 0.33,\n",
       "              \"type\": \"Place\",\n",
       "              \"normalized_text\": \"IAN\"\n",
       "            },\n",
       "            {\n",
       "              \"start\": 136,\n",
       "              \"end\": 147,\n",
       "              \"probability\": 0.4402,\n",
       "              \"type\": \"Other\",\n",
       "              \"normalized_text\": \"HurricaneIan\"\n",
       "            },\n",
       "            {\n",
       "              \"start\": 175,\n",
       "              \"end\": 187,\n",
       "              \"probability\": 0.8178,\n",
       "              \"type\": \"Person\",\n",
       "              \"normalized_text\": \"Steven J Grey\"\n",
       "            }\n",
       "          ],\n",
       "          \"hashtags\": [\n",
       "            {\n",
       "              \"start\": 130,\n",
       "              \"end\": 134,\n",
       "              \"tag\": \"IAN\"\n",
       "            },\n",
       "            {\n",
       "              \"start\": 135,\n",
       "              \"end\": 148,\n",
       "              \"tag\": \"HurricaneIan\"\n",
       "            }\n",
       "          ],\n",
       "          \"urls\": [\n",
       "            {\n",
       "              \"start\": 189,\n",
       "              \"end\": 212,\n",
       "              \"url\": \"https://t.co/W4kQPU3R32\",\n",
       "              \"expanded_url\": \"https://twitter.com/TotalTrafficMIA/status/1574935349935341568/video/1\",\n",
       "              \"display_url\": \"pic.twitter.com/W4kQPU3R32\",\n",
       "              \"media_key\": \"7_1574935242393223170\"\n",
       "            }\n",
       "          ]\n",
       "        },\n",
       "        \"id\": \"1574935349935341568\",\n",
       "        \"context_annotations\": [\n",
       "          {\n",
       "            \"domain\": {\n",
       "              \"id\": \"131\",\n",
       "              \"name\": \"Unified Twitter Taxonomy\",\n",
       "              \"description\": \"A taxonomy of user interests. \"\n",
       "            },\n",
       "            \"entity\": {\n",
       "              \"id\": \"857083369514876928\",\n",
       "              \"name\": \"Weather\",\n",
       "              \"description\": \"Weather\"\n",
       "            }\n",
       "          },\n",
       "          {\n",
       "            \"domain\": {\n",
       "              \"id\": \"131\",\n",
       "              \"name\": \"Unified Twitter Taxonomy\",\n",
       "              \"description\": \"A taxonomy of user interests. \"\n",
       "            },\n",
       "            \"entity\": {\n",
       "              \"id\": \"1254792035480952833\",\n",
       "              \"name\": \"South Florida\"\n",
       "            }\n",
       "          },\n",
       "          {\n",
       "            \"domain\": {\n",
       "              \"id\": \"171\",\n",
       "              \"name\": \"Local News\",\n",
       "              \"description\": \"For local-level news entities\"\n",
       "            },\n",
       "            \"entity\": {\n",
       "              \"id\": \"1254792035480952833\",\n",
       "              \"name\": \"South Florida\"\n",
       "            }\n",
       "          }\n",
       "        ],\n",
       "        \"lang\": \"en\",\n",
       "        \"public_metrics\": {\n",
       "          \"retweet_count\": 316,\n",
       "          \"reply_count\": 33,\n",
       "          \"like_count\": 549,\n",
       "          \"quote_count\": 42\n",
       "        },\n",
       "        \"conversation_id\": \"1574935349935341568\",\n",
       "        \"edit_history_tweet_ids\": [\n",
       "          \"1574935349935341568\"\n",
       "        ],\n",
       "        \"possibly_sensitive\": false,\n",
       "        \"text\": \"NEW VIDEO: Over 15 planes damaged at North Perry Airport north side (more possibly on the south side) due to a suspected tornado. #IAN #HurricaneIan   \\n\\ud83d\\udcfd\\ufe0f Video Courtesy TTWN/Steven J Grey https://t.co/W4kQPU3R32\",\n",
       "        \"author_id\": \"249831776\",\n",
       "        \"attachments\": {\n",
       "          \"media_keys\": [\n",
       "            \"7_1574935242393223170\"\n",
       "          ]\n",
       "        },\n",
       "        \"reply_settings\": \"everyone\",\n",
       "        \"source\": \"Twitter Web App\"\n",
       "      }\n",
       "    ]\n",
       "  },\n",
       "  \"errors\": null,\n",
       "  \"meta\": null,\n",
       "  \"dtype\": \"Tweet\"\n",
       "}"
      ]
     },
     "execution_count": 50,
     "metadata": {},
     "output_type": "execute_result"
    }
   ],
   "source": [
    "tweet = client.tweets.find_tweet_by_id('1574935349935341568')\n",
    "\n",
    "tweet"
   ]
  },
  {
   "cell_type": "code",
   "execution_count": 12,
   "id": "d4fd45f4-3f8b-4b74-949d-79574b663d47",
   "metadata": {},
   "outputs": [
    {
     "ename": "AttributeError",
     "evalue": "'TwitterResponse' object has no attribute 'content'",
     "output_type": "error",
     "traceback": [
      "\u001b[0;31m---------------------------------------------------------------------------\u001b[0m",
      "\u001b[0;31mAttributeError\u001b[0m                            Traceback (most recent call last)",
      "Input \u001b[0;32mIn [12]\u001b[0m, in \u001b[0;36m<cell line: 1>\u001b[0;34m()\u001b[0m\n\u001b[1;32m     17\u001b[0m         time\u001b[38;5;241m.\u001b[39msleep(\u001b[38;5;241m1\u001b[39m \u001b[38;5;241m+\u001b[39m \u001b[38;5;241m300\u001b[39m \u001b[38;5;241m/\u001b[39m (\u001b[38;5;241m15\u001b[39m \u001b[38;5;241m*\u001b[39m \u001b[38;5;241m60\u001b[39m))\n\u001b[1;32m     18\u001b[0m \u001b[38;5;28;01mexcept\u001b[39;00m \u001b[38;5;167;01mException\u001b[39;00m \u001b[38;5;28;01mas\u001b[39;00m ex:\n\u001b[0;32m---> 19\u001b[0m     \u001b[38;5;28;01mraise\u001b[39;00m ex\n\u001b[1;32m     20\u001b[0m     error \u001b[38;5;241m=\u001b[39m ex\n\u001b[1;32m     22\u001b[0m error, \u001b[38;5;28mlen\u001b[39m(tweets)\n",
      "Input \u001b[0;32mIn [12]\u001b[0m, in \u001b[0;36m<cell line: 1>\u001b[0;34m()\u001b[0m\n\u001b[1;32m      4\u001b[0m \u001b[38;5;28;01mwhile\u001b[39;00m \u001b[38;5;28;01mTrue\u001b[39;00m:\n\u001b[1;32m      5\u001b[0m     resp \u001b[38;5;241m=\u001b[39m client\u001b[38;5;241m.\u001b[39mtweets\u001b[38;5;241m.\u001b[39mtweets_fullarchive_search(\n\u001b[1;32m      6\u001b[0m         \u001b[38;5;124m'\u001b[39m\u001b[38;5;124m(#Ian OR \u001b[39m\u001b[38;5;124m\"\u001b[39m\u001b[38;5;124mHurricane Ian\u001b[39m\u001b[38;5;124m\"\u001b[39m\u001b[38;5;124m OR #HurricaneIan) -is:retweet has:videos\u001b[39m\u001b[38;5;124m'\u001b[39m, \n\u001b[1;32m      7\u001b[0m         next_token\u001b[38;5;241m=\u001b[39mnext_token, \n\u001b[0;32m   (...)\u001b[0m\n\u001b[1;32m     10\u001b[0m         max_results\u001b[38;5;241m=\u001b[39m\u001b[38;5;241m100\u001b[39m,\n\u001b[1;32m     11\u001b[0m     )\n\u001b[0;32m---> 12\u001b[0m     tweets \u001b[38;5;241m+\u001b[39m\u001b[38;5;241m=\u001b[39m \u001b[43mresp\u001b[49m\u001b[38;5;241;43m.\u001b[39;49m\u001b[43mcontent\u001b[49m\n\u001b[1;32m     13\u001b[0m     \u001b[38;5;28;01mif\u001b[39;00m \u001b[38;5;124m'\u001b[39m\u001b[38;5;124mnext_token\u001b[39m\u001b[38;5;124m'\u001b[39m \u001b[38;5;129;01mnot\u001b[39;00m \u001b[38;5;129;01min\u001b[39;00m resp\u001b[38;5;241m.\u001b[39mmeta:\n\u001b[1;32m     14\u001b[0m         \u001b[38;5;28;01mbreak\u001b[39;00m\n",
      "\u001b[0;31mAttributeError\u001b[0m: 'TwitterResponse' object has no attribute 'content'"
     ]
    }
   ],
   "source": [
    "try:\n",
    "    error, tweets = None, []\n",
    "    next_token = None\n",
    "    while True:\n",
    "        resp = client.tweets.tweets_fullarchive_search(\n",
    "            '(#Ian OR \"Hurricane Ian\" OR #HurricaneIan) -is:retweet has:videos', \n",
    "            next_token=next_token, \n",
    "            start_time='2022-09-30T00:00:01Z',\n",
    "            end_time='2022-10-12T12:00:01Z',\n",
    "            max_results=100,\n",
    "        )\n",
    "        tweets += resp.content\n",
    "        if 'next_token' not in resp.meta:\n",
    "            break\n",
    "        next_token = resp.meta['next_token']\n",
    "        print('Number of Tweets Collected: {}'.format(len(tweets)))\n",
    "        \n",
    "except Exception as ex:\n",
    "    raise ex\n",
    "    error = ex\n",
    "    \n",
    "error, len(tweets)"
   ]
  },
  {
   "cell_type": "code",
   "execution_count": null,
   "id": "a217035f-277d-48ad-931c-010ba07c9038",
   "metadata": {},
   "outputs": [],
   "source": []
  }
 ],
 "metadata": {
  "kernelspec": {
   "display_name": "Python 3 (ipykernel)",
   "language": "python",
   "name": "python3"
  },
  "language_info": {
   "codemirror_mode": {
    "name": "ipython",
    "version": 3
   },
   "file_extension": ".py",
   "mimetype": "text/x-python",
   "name": "python",
   "nbconvert_exporter": "python",
   "pygments_lexer": "ipython3",
   "version": "3.9.7"
  }
 },
 "nbformat": 4,
 "nbformat_minor": 5
}

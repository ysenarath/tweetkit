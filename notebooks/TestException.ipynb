{
 "cells": [
  {
   "cell_type": "code",
   "execution_count": 1,
   "id": "cb5d6d1c-d94b-4c24-a7c5-7e663b28f571",
   "metadata": {},
   "outputs": [],
   "source": [
    "%load_ext autoreload\n",
    "%autoreload 2"
   ]
  },
  {
   "cell_type": "code",
   "execution_count": 2,
   "id": "3421f7bf-c857-4b02-9ae2-449b5959876f",
   "metadata": {},
   "outputs": [
    {
     "data": {
      "text/plain": [
       "'/Users/yasas/Documents/Projects/ysenarath/tweetkit'"
      ]
     },
     "execution_count": 2,
     "metadata": {},
     "output_type": "execute_result"
    }
   ],
   "source": [
    "import os\n",
    "import sys\n",
    "\n",
    "project_path = os.path.abspath(os.path.join(os.getcwd(), '..'))\n",
    "\n",
    "if project_path not in sys.path:\n",
    "    sys.path.append(project_path)\n",
    "    \n",
    "project_path"
   ]
  },
  {
   "cell_type": "code",
   "execution_count": 3,
   "id": "0f68548c-0d9c-4abe-8efb-282c27dec473",
   "metadata": {},
   "outputs": [],
   "source": [
    "from tweetkit.client import TwitterClient"
   ]
  },
  {
   "cell_type": "code",
   "execution_count": 4,
   "id": "18ff6531-77d9-4b66-bac3-7479f3509478",
   "metadata": {},
   "outputs": [],
   "source": [
    "client = TwitterClient(auth=None)"
   ]
  },
  {
   "cell_type": "code",
   "execution_count": 7,
   "id": "a6532792-10db-488d-97b4-95700494b206",
   "metadata": {},
   "outputs": [],
   "source": [
    "try:\n",
    "    with client.tweets.sample_stream() as stream:\n",
    "        for tweet in stream:\n",
    "            print(tweet._data)\n",
    "except Exception as ex:\n",
    "    error = ex"
   ]
  },
  {
   "cell_type": "code",
   "execution_count": 12,
   "id": "4ecf4c94-394b-48ea-9617-e7fa892b8e7b",
   "metadata": {},
   "outputs": [
    {
     "data": {
      "text/plain": [
       "tweetkit.exceptions.TwitterProblem('Unauthorized', 401)"
      ]
     },
     "execution_count": 12,
     "metadata": {},
     "output_type": "execute_result"
    }
   ],
   "source": [
    "error"
   ]
  },
  {
   "cell_type": "code",
   "execution_count": null,
   "id": "eb0d074e-ef9f-4a42-87c8-b2bd53998485",
   "metadata": {},
   "outputs": [],
   "source": []
  }
 ],
 "metadata": {
  "kernelspec": {
   "display_name": "Python 3 (ipykernel)",
   "language": "python",
   "name": "python3"
  },
  "language_info": {
   "codemirror_mode": {
    "name": "ipython",
    "version": 3
   },
   "file_extension": ".py",
   "mimetype": "text/x-python",
   "name": "python",
   "nbconvert_exporter": "python",
   "pygments_lexer": "ipython3",
   "version": "3.9.7"
  }
 },
 "nbformat": 4,
 "nbformat_minor": 5
}

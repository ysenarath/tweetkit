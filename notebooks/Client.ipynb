{
 "cells": [
  {
   "cell_type": "code",
   "execution_count": 1,
   "id": "cb5d6d1c-d94b-4c24-a7c5-7e663b28f571",
   "metadata": {},
   "outputs": [],
   "source": [
    "%load_ext autoreload\n",
    "%autoreload 2"
   ]
  },
  {
   "cell_type": "code",
   "execution_count": 2,
   "id": "3421f7bf-c857-4b02-9ae2-449b5959876f",
   "metadata": {},
   "outputs": [
    {
     "data": {
      "text/plain": [
       "'/Users/yasas/Documents/Projects/ysenarath/tweetkit'"
      ]
     },
     "execution_count": 2,
     "metadata": {},
     "output_type": "execute_result"
    }
   ],
   "source": [
    "import os\n",
    "import sys\n",
    "\n",
    "project_path = os.path.abspath(os.path.join(os.getcwd(), '..'))\n",
    "\n",
    "if project_path not in sys.path:\n",
    "    sys.path.append(project_path)\n",
    "    \n",
    "project_path"
   ]
  },
  {
   "cell_type": "code",
   "execution_count": 4,
   "id": "0f68548c-0d9c-4abe-8efb-282c27dec473",
   "metadata": {},
   "outputs": [],
   "source": [
    "from tweetkit.client import TwitterClient\n",
    "from tweetkit.auth import BearerTokenAuth"
   ]
  },
  {
   "cell_type": "code",
   "execution_count": 5,
   "id": "1562ef46-f6d6-4621-ae8a-bc8def76fdc2",
   "metadata": {},
   "outputs": [],
   "source": [
    "with open('../secrets/bearer_token', 'r', encoding='utf-8') as fp:\n",
    "    auth = BearerTokenAuth(fp.read())\n",
    "    assert len(auth.bearer_token) > 0, 'Unable to load the bearer token.'"
   ]
  },
  {
   "cell_type": "code",
   "execution_count": 6,
   "id": "18ff6531-77d9-4b66-bac3-7479f3509478",
   "metadata": {},
   "outputs": [],
   "source": [
    "client = TwitterClient(auth=auth)"
   ]
  },
  {
   "cell_type": "code",
   "execution_count": 25,
   "id": "d4fd45f4-3f8b-4b74-949d-79574b663d47",
   "metadata": {},
   "outputs": [],
   "source": [
    "tweets = []\n",
    "\n",
    "error = None\n",
    "try:\n",
    "    with client.tweets.sample_stream() as stream:\n",
    "        for tweet in stream:\n",
    "            tweets.append(tweet)\n",
    "            if len(tweets) >= 10:\n",
    "                break\n",
    "except Exception as ex:\n",
    "    error = ex\n",
    "\n",
    "assert error is None\n",
    "assert len(tweets) == 10\n",
    "assert tweets[0]['id'] == tweets[0].id\n",
    "assert tweets[0]['text'] == tweets[0].text"
   ]
  },
  {
   "cell_type": "code",
   "execution_count": null,
   "id": "56719c44-a0e8-4272-819a-dad93373a3ae",
   "metadata": {},
   "outputs": [],
   "source": []
  }
 ],
 "metadata": {
  "kernelspec": {
   "display_name": "Python 3 (ipykernel)",
   "language": "python",
   "name": "python3"
  },
  "language_info": {
   "codemirror_mode": {
    "name": "ipython",
    "version": 3
   },
   "file_extension": ".py",
   "mimetype": "text/x-python",
   "name": "python",
   "nbconvert_exporter": "python",
   "pygments_lexer": "ipython3",
   "version": "3.9.7"
  }
 },
 "nbformat": 4,
 "nbformat_minor": 5
}

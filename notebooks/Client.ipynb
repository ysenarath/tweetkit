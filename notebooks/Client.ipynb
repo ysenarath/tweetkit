{
 "cells": [
  {
   "cell_type": "code",
   "execution_count": null,
   "id": "cb5d6d1c-d94b-4c24-a7c5-7e663b28f571",
   "metadata": {},
   "outputs": [],
   "source": [
    "%load_ext autoreload\n",
    "%autoreload 2"
   ]
  },
  {
   "cell_type": "code",
   "execution_count": null,
   "id": "3421f7bf-c857-4b02-9ae2-449b5959876f",
   "metadata": {},
   "outputs": [],
   "source": [
    "import os\n",
    "import sys\n",
    "\n",
    "project_path = os.path.abspath(os.path.join(os.getcwd(), '..'))\n",
    "\n",
    "if project_path not in sys.path:\n",
    "    sys.path.append(project_path)\n",
    "    \n",
    "project_path"
   ]
  },
  {
   "cell_type": "code",
   "execution_count": null,
   "id": "0f68548c-0d9c-4abe-8efb-282c27dec473",
   "metadata": {},
   "outputs": [],
   "source": [
    "from tweetkit.client import TwitterClient\n",
    "from tweetkit.auth import BearerTokenAuth"
   ]
  },
  {
   "cell_type": "code",
   "execution_count": null,
   "id": "1562ef46-f6d6-4621-ae8a-bc8def76fdc2",
   "metadata": {},
   "outputs": [],
   "source": [
    "with open('../secrets/bearer_token', 'r', encoding='utf-8') as fp:\n",
    "    auth = BearerTokenAuth(fp.read())\n",
    "    assert len(auth.bearer_token) > 0, 'Unable to load the bearer token.'"
   ]
  },
  {
   "cell_type": "code",
   "execution_count": null,
   "id": "18ff6531-77d9-4b66-bac3-7479f3509478",
   "metadata": {},
   "outputs": [],
   "source": [
    "client = TwitterClient(auth=auth)"
   ]
  },
  {
   "cell_type": "code",
   "execution_count": null,
   "id": "d4fd45f4-3f8b-4b74-949d-79574b663d47",
   "metadata": {},
   "outputs": [],
   "source": [
    "stream, error = None, None\n",
    "\n",
    "try:\n",
    "    rule_ids = client.tweets.get_rules().get('id')\n",
    "    if rule_ids:\n",
    "        client.tweets.add_or_delete_rules({'delete': {'ids': rule_ids}})\n",
    "    client.tweets.add_or_delete_rules({'add': [{'value': \"has:videos\", \"tag\": \"hurricane ian videos\"}]})\n",
    "except Exception as ex:\n",
    "    error = ex\n",
    "else:\n",
    "    stream = client.tweets.search_stream()\n",
    "\n",
    "stream, error"
   ]
  },
  {
   "cell_type": "code",
   "execution_count": null,
   "id": "3ce37d0d-2866-4fa4-987f-fbb0fc48dcab",
   "metadata": {},
   "outputs": [],
   "source": [
    "collection = []\n",
    "\n",
    "for tweet in stream:\n",
    "    collection.append(tweet)\n",
    "    if len(collection) >= 1:\n",
    "        break\n",
    "\n",
    "stream.close()   "
   ]
  },
  {
   "cell_type": "code",
   "execution_count": null,
   "id": "2c78a8aa-9b1a-4f3b-9ba5-f0f779fa2ae3",
   "metadata": {},
   "outputs": [],
   "source": [
    "# collection[0].data"
   ]
  },
  {
   "cell_type": "code",
   "execution_count": null,
   "id": "88c28200-6dfe-4002-959c-c1bd4b33e1b6",
   "metadata": {},
   "outputs": [],
   "source": []
  }
 ],
 "metadata": {
  "kernelspec": {
   "display_name": "Python 3 (ipykernel)",
   "language": "python",
   "name": "python3"
  },
  "language_info": {
   "codemirror_mode": {
    "name": "ipython",
    "version": 3
   },
   "file_extension": ".py",
   "mimetype": "text/x-python",
   "name": "python",
   "nbconvert_exporter": "python",
   "pygments_lexer": "ipython3",
   "version": "3.9.7"
  }
 },
 "nbformat": 4,
 "nbformat_minor": 5
}

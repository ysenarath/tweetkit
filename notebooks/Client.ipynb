{
 "cells": [
  {
   "cell_type": "code",
   "execution_count": 1,
   "id": "3421f7bf-c857-4b02-9ae2-449b5959876f",
   "metadata": {},
   "outputs": [
    {
     "data": {
      "text/plain": [
       "'/Users/yasas/Documents/Projects/ysenarath/tweetkit'"
      ]
     },
     "execution_count": 1,
     "metadata": {},
     "output_type": "execute_result"
    }
   ],
   "source": [
    "import os\n",
    "import sys\n",
    "\n",
    "project_path = os.path.abspath(os.path.join(os.getcwd(), '..'))\n",
    "\n",
    "if project_path not in sys.path:\n",
    "    sys.path.append(project_path)\n",
    "    \n",
    "project_path"
   ]
  },
  {
   "cell_type": "code",
   "execution_count": 2,
   "id": "57ed0952-8c78-494d-bf18-bcf72b1a865e",
   "metadata": {},
   "outputs": [],
   "source": [
    "from tweetkit.twitter.client import TwitterClient"
   ]
  },
  {
   "cell_type": "code",
   "execution_count": 3,
   "id": "18ff6531-77d9-4b66-bac3-7479f3509478",
   "metadata": {},
   "outputs": [],
   "source": [
    "client = TwitterClient()"
   ]
  },
  {
   "cell_type": "code",
   "execution_count": 4,
   "id": "c6dc4747-8e8c-4f0c-8e7e-d19d0d2836ab",
   "metadata": {},
   "outputs": [
    {
     "name": "stdout",
     "output_type": "stream",
     "text": [
      "Help on method add_or_delete_rules in module tweetkit.twitter.requests.tweets:\n",
      "\n",
      "add_or_delete_rules(dry_run=None) method of tweetkit.twitter.requests.tweets.Tweets instance\n",
      "    Add/Delete rules.\n",
      "    \n",
      "    Add or delete rules from a User's active rule set. Users can provide unique, optionally tagged rules to add. Users can delete their entire rule set or a subset specified by rule ids or values.\n",
      "    \n",
      "    Parameters\n",
      "    ----------\n",
      "    dry_run: boolean, optional\n",
      "        Dry Run can be used with both the add and delete action, with the expected result given, but without actually taking any action in the system (meaning the end state will always be as it was when the request was submitted). This is particularly useful to validate rule changes.\n",
      "    \n",
      "    Notes\n",
      "    -----\n",
      "    For more information, see: `here <https://developer.twitter.com/en/docs/twitter-api/tweets/filtered-stream/api-reference/post-tweets-search-stream-rules>`__.\n",
      "\n"
     ]
    }
   ],
   "source": [
    "help(client.tweets.add_or_delete_rules)"
   ]
  },
  {
   "cell_type": "code",
   "execution_count": 5,
   "id": "9f428360-647f-40ac-bb00-e25f97cf9f88",
   "metadata": {},
   "outputs": [],
   "source": [
    "import requests"
   ]
  },
  {
   "cell_type": "code",
   "execution_count": 8,
   "id": "41820360-638b-4028-bbd6-06b70356b9e0",
   "metadata": {},
   "outputs": [
    {
     "data": {
      "text/plain": [
       "True"
      ]
     },
     "execution_count": 8,
     "metadata": {},
     "output_type": "execute_result"
    }
   ],
   "source": [
    "r = requests.get('https://httpbin.org/get')\n",
    "r.status_code == 200"
   ]
  },
  {
   "cell_type": "code",
   "execution_count": null,
   "id": "c02e0467-f203-4556-8188-62b9f689e29e",
   "metadata": {},
   "outputs": [],
   "source": []
  }
 ],
 "metadata": {
  "kernelspec": {
   "display_name": "Python 3 (ipykernel)",
   "language": "python",
   "name": "python3"
  },
  "language_info": {
   "codemirror_mode": {
    "name": "ipython",
    "version": 3
   },
   "file_extension": ".py",
   "mimetype": "text/x-python",
   "name": "python",
   "nbconvert_exporter": "python",
   "pygments_lexer": "ipython3",
   "version": "3.9.7"
  }
 },
 "nbformat": 4,
 "nbformat_minor": 5
}

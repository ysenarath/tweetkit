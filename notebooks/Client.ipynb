{
 "cells": [
  {
   "cell_type": "code",
   "execution_count": 1,
   "id": "cb5d6d1c-d94b-4c24-a7c5-7e663b28f571",
   "metadata": {},
   "outputs": [],
   "source": [
    "%load_ext autoreload\n",
    "%autoreload 2"
   ]
  },
  {
   "cell_type": "code",
   "execution_count": 2,
   "id": "3421f7bf-c857-4b02-9ae2-449b5959876f",
   "metadata": {},
   "outputs": [
    {
     "data": {
      "text/plain": [
       "'/Users/yasas/Documents/Projects/ysenarath/tweetkit'"
      ]
     },
     "execution_count": 2,
     "metadata": {},
     "output_type": "execute_result"
    }
   ],
   "source": [
    "import os\n",
    "import sys\n",
    "\n",
    "project_path = os.path.abspath(os.path.join(os.getcwd(), '..'))\n",
    "\n",
    "if project_path not in sys.path:\n",
    "    sys.path.append(project_path)\n",
    "    \n",
    "project_path"
   ]
  },
  {
   "cell_type": "code",
   "execution_count": 3,
   "id": "0f68548c-0d9c-4abe-8efb-282c27dec473",
   "metadata": {},
   "outputs": [],
   "source": [
    "from tweetkit.client import TwitterClient\n",
    "from tweetkit.auth import BearerTokenAuth"
   ]
  },
  {
   "cell_type": "code",
   "execution_count": 4,
   "id": "1562ef46-f6d6-4621-ae8a-bc8def76fdc2",
   "metadata": {},
   "outputs": [],
   "source": [
    "with open('../secrets/bearer_token', 'r', encoding='utf-8') as fp:\n",
    "    auth = BearerTokenAuth(fp.read())\n",
    "    assert len(auth.bearer_token) > 0, 'Unable to load the bearer token.'"
   ]
  },
  {
   "cell_type": "code",
   "execution_count": 5,
   "id": "18ff6531-77d9-4b66-bac3-7479f3509478",
   "metadata": {},
   "outputs": [],
   "source": [
    "client = TwitterClient(auth=auth)"
   ]
  },
  {
   "cell_type": "code",
   "execution_count": 6,
   "id": "d4fd45f4-3f8b-4b74-949d-79574b663d47",
   "metadata": {},
   "outputs": [
    {
     "name": "stdout",
     "output_type": "stream",
     "text": [
      "{'expansions': ['attachments.media_keys', 'attachments.poll_ids', 'author_id', 'edit_history_tweet_ids', 'entities.mentions.username', 'geo.place_id', 'in_reply_to_user_id', 'referenced_tweets.id', 'referenced_tweets.id.author_id'], 'media.fields': ['alt_text', 'duration_ms', 'height', 'media_key', 'non_public_metrics', 'organic_metrics', 'preview_image_url', 'promoted_metrics', 'public_metrics', 'type', 'url', 'variants', 'width'], 'poll.fields': ['duration_minutes', 'end_datetime', 'id', 'options', 'voting_status'], 'user.fields': ['created_at', 'description', 'entities', 'id', 'location', 'name', 'pinned_tweet_id', 'profile_image_url', 'protected', 'public_metrics', 'url', 'username', 'verified', 'withheld'], 'place.fields': ['contained_within', 'country', 'country_code', 'full_name', 'geo', 'id', 'name', 'place_type']}\n"
     ]
    }
   ],
   "source": [
    "tweets = []\n",
    "\n",
    "error = None\n",
    "try:\n",
    "    with client.tweets.sample_stream(tweet_fields='ppok') as stream:\n",
    "        for tweet in stream:\n",
    "            tweets.append(tweet)\n",
    "            if len(tweets) >= 10:\n",
    "                break\n",
    "except Exception as ex:\n",
    "    error = ex\n",
    "\n",
    "# assert error is None\n",
    "# assert len(tweets) == 10\n",
    "# assert tweets[0]['id'] == tweets[0].id\n",
    "# assert tweets[0]['text'] == tweets[0].text"
   ]
  },
  {
   "cell_type": "code",
   "execution_count": 15,
   "id": "e6099516-67b4-4bcd-97bc-3d48a759907e",
   "metadata": {},
   "outputs": [
    {
     "data": {
      "text/plain": [
       "True"
      ]
     },
     "execution_count": 15,
     "metadata": {},
     "output_type": "execute_result"
    }
   ],
   "source": [
    "try:\n",
    "    user = client.users.find_user_by_username('ageragesg')\n",
    "except Exception as ex:\n",
    "    error = ex\n",
    "    \n",
    "bool(user.errors)"
   ]
  },
  {
   "cell_type": "code",
   "execution_count": 12,
   "id": "51690251-68c3-42a7-95d6-703ec4205302",
   "metadata": {},
   "outputs": [],
   "source": [
    "# user.errors[0]"
   ]
  },
  {
   "cell_type": "code",
   "execution_count": 9,
   "id": "5ce212ea-ff6e-4cdf-a228-3ddf32eb308f",
   "metadata": {},
   "outputs": [],
   "source": [
    "# raise error"
   ]
  },
  {
   "cell_type": "code",
   "execution_count": 10,
   "id": "d8577928-5134-475d-a2f2-347338e7b0ac",
   "metadata": {},
   "outputs": [
    {
     "data": {
      "text/plain": [
       "'application/json; charset=utf-8'"
      ]
     },
     "execution_count": 10,
     "metadata": {},
     "output_type": "execute_result"
    }
   ],
   "source": [
    "error.response.headers['content-type']"
   ]
  },
  {
   "cell_type": "code",
   "execution_count": 11,
   "id": "f0727c4f-20f8-4d82-8e29-17e49c92b705",
   "metadata": {},
   "outputs": [
    {
     "data": {
      "text/plain": [
       "{'errors': [{'parameters': {'tweet.fields': ['ppok']},\n",
       "   'message': 'The `tweet.fields` query parameter value [ppok] is not one of [attachments,author_id,context_annotations,conversation_id,created_at,edit_controls,edit_history_tweet_ids,entities,geo,id,in_reply_to_user_id,lang,non_public_metrics,organic_metrics,possibly_sensitive,promoted_metrics,public_metrics,referenced_tweets,reply_settings,source,text,withheld]'}],\n",
       " 'title': 'Invalid Request',\n",
       " 'detail': 'One or more parameters to your request was invalid.',\n",
       " 'type': 'https://api.twitter.com/2/problems/invalid-request'}"
      ]
     },
     "execution_count": 11,
     "metadata": {},
     "output_type": "execute_result"
    }
   ],
   "source": [
    "error.response.json()"
   ]
  },
  {
   "cell_type": "code",
   "execution_count": null,
   "id": "70aa5700-d3e3-414d-be92-fc3de6edd7b4",
   "metadata": {},
   "outputs": [],
   "source": []
  }
 ],
 "metadata": {
  "kernelspec": {
   "display_name": "Python 3 (ipykernel)",
   "language": "python",
   "name": "python3"
  },
  "language_info": {
   "codemirror_mode": {
    "name": "ipython",
    "version": 3
   },
   "file_extension": ".py",
   "mimetype": "text/x-python",
   "name": "python",
   "nbconvert_exporter": "python",
   "pygments_lexer": "ipython3",
   "version": "3.9.7"
  }
 },
 "nbformat": 4,
 "nbformat_minor": 5
}
